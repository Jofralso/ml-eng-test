{
 "cells": [
  {
   "cell_type": "code",
   "execution_count": 1,
   "metadata": {},
   "outputs": [],
   "source": [
    "#!pip install PyPDF2"
   ]
  },
  {
   "cell_type": "code",
   "execution_count": 2,
   "metadata": {},
   "outputs": [
    {
     "ename": "ModuleNotFoundError",
     "evalue": "No module named 'pdf2image'",
     "output_type": "error",
     "traceback": [
      "\u001b[1;31m---------------------------------------------------------------------------\u001b[0m",
      "\u001b[1;31mModuleNotFoundError\u001b[0m                       Traceback (most recent call last)",
      "Cell \u001b[1;32mIn[2], line 4\u001b[0m\n\u001b[0;32m      2\u001b[0m \u001b[38;5;28;01mimport\u001b[39;00m \u001b[38;5;21;01mtempfile\u001b[39;00m\n\u001b[0;32m      3\u001b[0m \u001b[38;5;28;01mfrom\u001b[39;00m \u001b[38;5;21;01mPyPDF2\u001b[39;00m \u001b[38;5;28;01mimport\u001b[39;00m PdfFileReader\n\u001b[1;32m----> 4\u001b[0m \u001b[38;5;28;01mfrom\u001b[39;00m \u001b[38;5;21;01mpdf2image\u001b[39;00m \u001b[38;5;28;01mimport\u001b[39;00m convert_from_path\n\u001b[0;32m      6\u001b[0m \u001b[38;5;66;03m# Function to extract images from PDF\u001b[39;00m\n\u001b[0;32m      7\u001b[0m \u001b[38;5;28;01mdef\u001b[39;00m \u001b[38;5;21mextract_images_from_pdf\u001b[39m(pdf_file_path):\n",
      "\u001b[1;31mModuleNotFoundError\u001b[0m: No module named 'pdf2image'"
     ]
    }
   ],
   "source": [
    "import os\n",
    "import tempfile\n",
    "from PyPDF2 import PdfFileReader\n",
    "from pdf2image import convert_from_path\n",
    "\n",
    "# Function to extract images from PDF\n",
    "def extract_images_from_pdf(pdf_file_path):\n",
    "    with tempfile.TemporaryDirectory() as temp_dir:\n",
    "        images = convert_from_path(pdf_file_path, output_folder=temp_dir)\n",
    "        image_paths = []\n",
    "        for i, image in enumerate(images):\n",
    "            image_path = os.path.join(temp_dir, f'image_{i}.jpg')\n",
    "            image.save(image_path, 'JPEG')\n",
    "            image_paths.append(image_path)\n",
    "    return image_paths\n",
    "\n",
    "# Define endpoint for PDF inference\n",
    "@app.route('/pdf_inference', methods=['POST'])\n",
    "def perform_pdf_inference():\n",
    "    # Get PDF file from request\n",
    "    pdf_file = request.files['pdf']\n",
    "\n",
    "    # Save PDF file to temporary location\n",
    "    temp_pdf_path = os.path.join(tempfile.gettempdir(), 'temp_pdf.pdf')\n",
    "    pdf_file.save(temp_pdf_path)\n",
    "\n",
    "    # Extract images from PDF\n",
    "    image_paths = extract_images_from_pdf(temp_pdf_path)\n",
    "\n",
    "    # Perform inference on each image\n",
    "    results = {}\n",
    "    for i, image_path in enumerate(image_paths):\n",
    "        # Read image using OpenCV\n",
    "        image = cv2.imread(image_path)\n",
    "\n",
    "        # Get type of inference requested\n",
    "        inference_type = request.args.get('type')\n",
    "\n",
    "        if inference_type == 'walls':\n",
    "            # Perform wall detection\n",
    "            walls = wall_detection_model(image)\n",
    "            # Process the result if needed\n",
    "            results[f'image_{i}'] = {'walls': walls}\n",
    "\n",
    "        elif inference_type == 'rooms':\n",
    "            # Implement room identification logic if needed\n",
    "            pass\n",
    "\n",
    "        elif inference_type == 'page_info':\n",
    "            # Implement logic to extract page information if needed\n",
    "            pass\n",
    "\n",
    "        elif inference_type == 'tables':\n",
    "            # Extract tables from the image\n",
    "            tables = table_extraction_function(image)\n",
    "            # Process the result if needed\n",
    "            results[f'image_{i}'] = {'tables': tables}\n",
    "\n",
    "        else:\n",
    "            return jsonify({'error': 'Invalid inference type'})\n",
    "\n",
    "    return jsonify(results)\n",
    "\n"
   ]
  }
 ],
 "metadata": {
  "kernelspec": {
   "display_name": "Python 3",
   "language": "python",
   "name": "python3"
  },
  "language_info": {
   "codemirror_mode": {
    "name": "ipython",
    "version": 3
   },
   "file_extension": ".py",
   "mimetype": "text/x-python",
   "name": "python",
   "nbconvert_exporter": "python",
   "pygments_lexer": "ipython3",
   "version": "3.12.2"
  }
 },
 "nbformat": 4,
 "nbformat_minor": 2
}
